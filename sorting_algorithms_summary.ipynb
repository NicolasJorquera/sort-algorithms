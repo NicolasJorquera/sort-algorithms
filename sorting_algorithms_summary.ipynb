{
 "cells": [
  {
   "cell_type": "markdown",
   "metadata": {
    "id": "H0kW8Z3-zkmU"
   },
   "source": [
    "[![Open in Colab](https://colab.research.google.com/assets/colab-badge.svg)](https://colab.research.google.com/github/NicolasJorquera/sorting-algorithms/blob/main/sorting_algorithms_summary.ipynb)"
   ]
  },
  {
   "cell_type": "markdown",
   "metadata": {
    "id": "96xmjZMMEu9I"
   },
   "source": [
    "# General definitions"
   ]
  },
  {
   "cell_type": "code",
   "execution_count": 2,
   "metadata": {
    "id": "rLTH-zpbwvFI"
   },
   "outputs": [
    {
     "ename": "ModuleNotFoundError",
     "evalue": "No module named 'matplotlib'",
     "output_type": "error",
     "traceback": [
      "\u001b[1;31m---------------------------------------------------------------------------\u001b[0m",
      "\u001b[1;31mModuleNotFoundError\u001b[0m                       Traceback (most recent call last)",
      "Cell \u001b[1;32mIn[2], line 1\u001b[0m\n\u001b[1;32m----> 1\u001b[0m \u001b[38;5;28;01mimport\u001b[39;00m \u001b[38;5;21;01mmatplotlib\u001b[39;00m\u001b[38;5;21;01m.\u001b[39;00m\u001b[38;5;21;01mpyplot\u001b[39;00m \u001b[38;5;28;01mas\u001b[39;00m \u001b[38;5;21;01mplt\u001b[39;00m\n\u001b[0;32m      2\u001b[0m \u001b[38;5;28;01mimport\u001b[39;00m \u001b[38;5;21;01mtime\u001b[39;00m\n\u001b[0;32m      3\u001b[0m \u001b[38;5;28;01mimport\u001b[39;00m \u001b[38;5;21;01mrandom\u001b[39;00m\n",
      "\u001b[1;31mModuleNotFoundError\u001b[0m: No module named 'matplotlib'"
     ]
    }
   ],
   "source": [
    "import matplotlib.pyplot as plt\n",
    "import time\n",
    "import random"
   ]
  },
  {
   "cell_type": "code",
   "execution_count": null,
   "metadata": {
    "id": "uoN2ea5buzO1"
   },
   "outputs": [],
   "source": [
    "# Define array to test every algorithm\n",
    "n = 5000\n",
    "array = [0]  * n\n",
    "for i in range(n):\n",
    "    array[i] = random.randint(0, n)"
   ]
  },
  {
   "cell_type": "code",
   "execution_count": null,
   "metadata": {
    "colab": {
     "base_uri": "https://localhost:8080/",
     "height": 430
    },
    "id": "wDAHPQK5FRso",
    "outputId": "4410efd3-c463-4421-96fa-9a2aedcf36b7"
   },
   "outputs": [],
   "source": [
    "plt.bar(range(len(array)), array)\n",
    "plt.show()"
   ]
  },
  {
   "cell_type": "markdown",
   "metadata": {
    "id": "0SHSOW1Pr3wn"
   },
   "source": [
    "# Bubble sort\n",
    "Repeatedly steps through the list, compares adjacent elements, and swaps them if they are in the wrong order. The process is repeated until the list is sorted.\n",
    "## Time complexity\n",
    "\n",
    "*   Worst-case: O(n^2)\n",
    "\n",
    "*   Best-case: O(n) (if the list is already sorted)\n",
    "\n",
    "## Space complexity\n",
    "*   O(1)\n"
   ]
  },
  {
   "cell_type": "code",
   "execution_count": null,
   "metadata": {
    "id": "raol5UTuuRWR"
   },
   "outputs": [],
   "source": [
    "def bubble_sort(array):\n",
    "    data = array.copy()\n",
    "    n = len(data)\n",
    "    for i in range(n):\n",
    "        for j in range(0, n - i - 1):\n",
    "            if data[j] > data[j + 1]:\n",
    "                data[j], data[j + 1] = data[j + 1], data[j]\n",
    "    return data"
   ]
  },
  {
   "cell_type": "code",
   "execution_count": null,
   "metadata": {
    "colab": {
     "base_uri": "https://localhost:8080/"
    },
    "id": "k8fkL2nnzLwg",
    "outputId": "a230fdde-d636-400e-d7b5-a4f97e54073b"
   },
   "outputs": [],
   "source": [
    "time_start = time.time()\n",
    "array_bubble_sorted = bubble_sort(array)\n",
    "time_end = time.time()\n",
    "bubble_sort_elapsed_time = round((time_end - time_start) * 1000, 2)\n",
    "print(f\"Bubble sort elapsed time: {bubble_sort_elapsed_time} milliseconds\")"
   ]
  },
  {
   "cell_type": "code",
   "execution_count": null,
   "metadata": {
    "colab": {
     "base_uri": "https://localhost:8080/"
    },
    "id": "a9S_J9mqThDw",
    "outputId": "86a55875-9958-44ad-f6c8-240debb05956"
   },
   "outputs": [],
   "source": [
    "plt.bar(range(len(array_bubble_sorted)), array_bubble_sorted)\n",
    "plt.show()"
   ]
  },
  {
   "cell_type": "markdown",
   "metadata": {
    "id": "Eg3y9x-hFtsi"
   },
   "source": [
    "# Selection sort\n",
    "Divides the list into a sorted and an unsorted part. Repeatedly selects the smallest (or largest) element from the unsorted part and moves it to the end of the sorted part.\n",
    "\n",
    "## Time complexity\n",
    "*   Worst-case: O(n^2)\n",
    "\n",
    "## Space complexity\n",
    "*   O(1)\n",
    "\n"
   ]
  },
  {
   "cell_type": "code",
   "execution_count": null,
   "metadata": {
    "id": "MnoNbKh7GhKX"
   },
   "outputs": [],
   "source": [
    "def selection_sort(array):\n",
    "    data = array.copy()\n",
    "    n = len(data)\n",
    "    for i in range(n):\n",
    "        min_index = i\n",
    "        for j in range(i + 1, n):\n",
    "            if data[j] < data[min_index]:\n",
    "                min_index = j\n",
    "        (data[i], data[min_index]) = (data[min_index], data[i])\n",
    "    return data"
   ]
  },
  {
   "cell_type": "code",
   "execution_count": null,
   "metadata": {
    "colab": {
     "base_uri": "https://localhost:8080/"
    },
    "id": "COB1xQHlHRbZ",
    "outputId": "6225ac96-dcf4-4ec1-d52c-ac6cd3b93df3"
   },
   "outputs": [],
   "source": [
    "time_start = time.time()\n",
    "array_selection_sorted = selection_sort(array)\n",
    "time_end = time.time()\n",
    "selection_sort_elapsed_time = round((time_end - time_start) * 1000, 2)\n",
    "print(f\"Selection sort elapsed time: {selection_sort_elapsed_time} milliseconds\")"
   ]
  },
  {
   "cell_type": "code",
   "execution_count": null,
   "metadata": {
    "colab": {
     "base_uri": "https://localhost:8080/"
    },
    "id": "kWgH--TUTaBC",
    "outputId": "34f93334-7d52-46e7-f7c2-57cc17e4c265"
   },
   "outputs": [],
   "source": [
    "plt.bar(range(len(array_selection_sorted)), array_selection_sorted)\n",
    "plt.show()"
   ]
  },
  {
   "cell_type": "markdown",
   "metadata": {
    "id": "JYn47nrjU-Ll"
   },
   "source": [
    "# Insertion sort\n",
    "Builds the sorted list one element at a time. It takes each element from the unsorted part and places it into its correct position in the sorted part.\n",
    "## Time complexity\n",
    "\n",
    "\n",
    "*   Worst-case: O(n^2)\n",
    "*   Best-case: O(n) (if the list is nearly sorted)\n",
    "\n",
    "## Space complexity\n",
    "\n",
    "\n",
    "*   O(1)\n",
    "\n",
    "\n",
    "\n"
   ]
  },
  {
   "cell_type": "code",
   "execution_count": null,
   "metadata": {
    "id": "MSgagE_FZ67z"
   },
   "outputs": [],
   "source": [
    "def insertion_sort(array):\n",
    "    data = array.copy()\n",
    "    n = len(data)\n",
    "    for i in range(1, n):\n",
    "        key = data[i]\n",
    "        j = i - 1\n",
    "\n",
    "        while j >= 0 and key < data[j]:\n",
    "            data[j + 1] = data[j]\n",
    "            j = j - 1\n",
    "\n",
    "        data[j + 1] = key\n",
    "\n",
    "    return data"
   ]
  },
  {
   "cell_type": "code",
   "execution_count": null,
   "metadata": {
    "colab": {
     "base_uri": "https://localhost:8080/"
    },
    "id": "bFGGbKuFbolb",
    "outputId": "ee56648c-3ddc-4307-ed1e-c5c2734b87f7"
   },
   "outputs": [],
   "source": [
    "time_start = time.time()\n",
    "array_insertion_sorted = selection_sort(array)\n",
    "time_end = time.time()\n",
    "insertion_sort_elapsed_time = round((time_end - time_start) * 1000, 2)\n",
    "print(f\"Insertion sort elapsed time: {insertion_sort_elapsed_time} milliseconds\")"
   ]
  },
  {
   "cell_type": "code",
   "execution_count": null,
   "metadata": {
    "colab": {
     "base_uri": "https://localhost:8080/",
     "height": 430
    },
    "id": "ZC58fsa5cmRY",
    "outputId": "d127d135-6ac6-4b59-b0da-8e137e777203"
   },
   "outputs": [],
   "source": [
    "plt.bar(range(len(array_insertion_sorted)), array_insertion_sorted)\n",
    "plt.show()"
   ]
  },
  {
   "cell_type": "markdown",
   "metadata": {
    "id": "7uEuQmrCyCJI"
   },
   "source": [
    "# Merge sort\n",
    "A divide-and-conquer algorithm. It divides the list into halves, recursively sorts each half, and then merges them.\n",
    "\n",
    "## Time complexity\n",
    "*   O(nlog(n))\n",
    "\n",
    "## Space complexity\n",
    "*   O(n)\n",
    "\n"
   ]
  },
  {
   "cell_type": "code",
   "execution_count": null,
   "metadata": {
    "id": "GDqBeI7syW3h"
   },
   "outputs": [],
   "source": [
    "def merge_sort(array):\n",
    "    data = array.copy()\n",
    "\n",
    "    def merge(left, right):\n",
    "        merged = []\n",
    "        i = j = 0\n",
    "\n",
    "        while i < len(left) and j < len(right):\n",
    "            if left[i] < right[j]:\n",
    "                merged.append(left[i])\n",
    "                i += 1\n",
    "            else:\n",
    "                merged.append(right[j])\n",
    "                j += 1\n",
    "\n",
    "        # Agregar elementos restantes de cada sublista\n",
    "        merged.extend(left[i:])\n",
    "        merged.extend(right[j:])\n",
    "\n",
    "        return merged\n",
    "\n",
    "    def sort(subarray):\n",
    "        if len(subarray) <= 1:\n",
    "            return subarray\n",
    "\n",
    "        mid = len(subarray) // 2\n",
    "        left = sort(subarray[:mid])\n",
    "        right = sort(subarray[mid:])\n",
    "\n",
    "        return merge(left, right)\n",
    "\n",
    "    return sort(data)"
   ]
  },
  {
   "cell_type": "code",
   "execution_count": null,
   "metadata": {
    "colab": {
     "base_uri": "https://localhost:8080/"
    },
    "id": "nXGFU4nT0uG9",
    "outputId": "dead7da1-beae-4490-e424-43e11bf7d5d0"
   },
   "outputs": [],
   "source": [
    "time_start = time.time()\n",
    "array_merge_sorted = merge_sort(array)\n",
    "time_end = time.time()\n",
    "merge_sort_elapsed_time = round((time_end - time_start) * 1000, 2)\n",
    "print(f\"Merge sort elapsed time: {merge_sort_elapsed_time} milliseconds\")"
   ]
  },
  {
   "cell_type": "code",
   "execution_count": null,
   "metadata": {
    "colab": {
     "base_uri": "https://localhost:8080/",
     "height": 430
    },
    "id": "wSAcSAHX0uwl",
    "outputId": "2190c16b-d21c-4d39-d4aa-b489197cb8ef"
   },
   "outputs": [],
   "source": [
    "plt.bar(range(len(array_merge_sorted)), array_merge_sorted)\n",
    "plt.show()"
   ]
  },
  {
   "cell_type": "markdown",
   "metadata": {
    "id": "U4aW89qg6usH"
   },
   "source": [
    "# Quick sort\n",
    "A divide-and-conquer algorithm. It picks a \"pivot\" element, partitions the list into elements less than and greater than the pivot, and recursively sorts the partitions.\n",
    "\n",
    "## Time complexity\n",
    "*   Average-case: O(nlog(n))\n",
    "*   Worst-case: O(n^2) (if the pivot is poorly chosen)\n",
    "\n",
    "## Space complexity\n",
    "*   O(log(n))\n",
    "\n"
   ]
  },
  {
   "cell_type": "code",
   "execution_count": null,
   "metadata": {
    "id": "Gcnlf4-A9IO9"
   },
   "outputs": [],
   "source": [
    "def quick_sort(array):\n",
    "    def _quick_sort(arr, low, high):\n",
    "        if low < high:\n",
    "            pi = partition(arr, low, high)\n",
    "\n",
    "            _quick_sort(arr, low, pi - 1)\n",
    "            _quick_sort(arr, pi + 1, high)\n",
    "\n",
    "    def partition(arr, low, high):\n",
    "        pivot = arr[high]\n",
    "        i = low - 1\n",
    "\n",
    "        for j in range(low, high):\n",
    "            if arr[j] <= pivot:\n",
    "                i += 1\n",
    "                arr[i], arr[j] = arr[j], arr[i]\n",
    "\n",
    "        arr[i + 1], arr[high] = arr[high], arr[i + 1]\n",
    "        return i + 1\n",
    "\n",
    "    data = array.copy()\n",
    "    _quick_sort(data, 0, len(data) - 1)\n",
    "    return data"
   ]
  },
  {
   "cell_type": "code",
   "execution_count": null,
   "metadata": {
    "colab": {
     "base_uri": "https://localhost:8080/"
    },
    "id": "fK5rXxTI9bg0",
    "outputId": "033b447f-3d80-4799-9932-7d79bcac8865"
   },
   "outputs": [],
   "source": [
    "time_start = time.time()\n",
    "array_quick_sorted = quick_sort(array)\n",
    "time_end = time.time()\n",
    "quick_sort_elapsed_time = round((time_end - time_start) * 1000, 2)\n",
    "print(f\"Quick sort elapsed time: {quick_sort_elapsed_time} milliseconds\")"
   ]
  },
  {
   "cell_type": "code",
   "execution_count": null,
   "metadata": {
    "colab": {
     "base_uri": "https://localhost:8080/",
     "height": 430
    },
    "id": "qWWHftaS9kT5",
    "outputId": "8f170348-2738-43b8-b4fc-6ee7e0d8be5f"
   },
   "outputs": [],
   "source": [
    "plt.bar(range(len(array_quick_sorted)), array_quick_sorted)\n",
    "plt.show()"
   ]
  },
  {
   "cell_type": "markdown",
   "metadata": {
    "id": "xZcVVJua-ms3"
   },
   "source": [
    "# Heap sort\n",
    " Converts the list into a binary heap structure and repeatedly extracts the maximum (or minimum) element to build the sorted list.\n",
    "\n",
    "## Time complexity\n",
    "*   O(nlog(n))\n",
    "\n",
    "## Space complexity\n",
    "*   O(1)\n",
    "\n"
   ]
  },
  {
   "cell_type": "code",
   "execution_count": null,
   "metadata": {
    "id": "el6DBSlC-v0-"
   },
   "outputs": [],
   "source": [
    "def heap_sort(array):\n",
    "    def heapify(arr, n, i):\n",
    "        largest = i\n",
    "        left = 2 * i + 1\n",
    "        right = 2 * i + 2\n",
    "\n",
    "        if left < n and arr[left] > arr[largest]:\n",
    "            largest = left\n",
    "\n",
    "        if right < n and arr[right] > arr[largest]:\n",
    "            largest = right\n",
    "\n",
    "        if largest != i:\n",
    "            arr[i], arr[largest] = arr[largest], arr[i]\n",
    "            heapify(arr, n, largest)\n",
    "\n",
    "    data = array.copy()\n",
    "    n = len(data)\n",
    "\n",
    "    for i in range(n // 2 - 1, -1, -1):\n",
    "        heapify(data, n, i)\n",
    "\n",
    "    for i in range(n - 1, 0, -1):\n",
    "        data[i], data[0] = data[0], data[i]\n",
    "        heapify(data, i, 0)\n",
    "\n",
    "    return data"
   ]
  },
  {
   "cell_type": "code",
   "execution_count": null,
   "metadata": {
    "colab": {
     "base_uri": "https://localhost:8080/"
    },
    "id": "CQC6mrYZ_GZ_",
    "outputId": "a136d320-2213-4f42-dae3-6d9b6a875478"
   },
   "outputs": [],
   "source": [
    "time_start = time.time()\n",
    "array_heap_sorted = heap_sort(array)\n",
    "time_end = time.time()\n",
    "heap_sort_elapsed_time = round((time_end - time_start) * 1000, 2)\n",
    "print(f\"Heap sort elapsed time: {heap_sort_elapsed_time} milliseconds\")"
   ]
  },
  {
   "cell_type": "code",
   "execution_count": null,
   "metadata": {
    "colab": {
     "base_uri": "https://localhost:8080/",
     "height": 430
    },
    "id": "RuFWOLLx_QL3",
    "outputId": "627569c5-15f3-49ea-af0f-7cad42c542eb"
   },
   "outputs": [],
   "source": [
    "plt.bar(range(len(array_heap_sorted)), array_heap_sorted)\n",
    "plt.show()"
   ]
  },
  {
   "cell_type": "markdown",
   "metadata": {
    "id": "sV9iLGXA_Xym"
   },
   "source": [
    "# Radix sort\n",
    "A non-comparative algorithm that sorts numbers digit by digit, starting from the least significant digit to the most significant.\n",
    "\n",
    "## Time complexity\n",
    "*   O(nk) (where k is the number of digits)\n",
    "\n",
    "## Space complexity\n",
    "*   O(k)\n",
    "\n"
   ]
  },
  {
   "cell_type": "code",
   "execution_count": null,
   "metadata": {
    "id": "mFip6O70_cpO"
   },
   "outputs": [],
   "source": [
    "def radix_sort(array):\n",
    "    data = array.copy()\n",
    "    max_num = max(data)\n",
    "    exp = 1\n",
    "\n",
    "    while max_num // exp > 0:\n",
    "        counting_sort(data, exp)\n",
    "        exp *= 10\n",
    "    return data\n",
    "\n",
    "def counting_sort(arr, exp):\n",
    "    n = len(arr)\n",
    "    output = [0] * n\n",
    "    count = [0] * 10\n",
    "\n",
    "    for i in range(n):\n",
    "        index = (arr[i] // exp) % 10\n",
    "        count[index] += 1\n",
    "\n",
    "    for i in range(1, 10):\n",
    "        count[i] += count[i - 1]\n",
    "\n",
    "    for i in range(n - 1, -1, -1):\n",
    "        index = (arr[i] // exp) % 10\n",
    "        output[count[index] - 1] = arr[i]\n",
    "        count[index] -= 1\n",
    "\n",
    "    for i in range(n):\n",
    "        arr[i] = output[i]\n"
   ]
  },
  {
   "cell_type": "code",
   "execution_count": null,
   "metadata": {
    "colab": {
     "base_uri": "https://localhost:8080/"
    },
    "id": "9ZNvWidl_uSu",
    "outputId": "fb497fc8-3df8-48a5-bacd-b747f75ad80e"
   },
   "outputs": [],
   "source": [
    "time_start = time.time()\n",
    "array_radix_sorted = radix_sort(array)\n",
    "time_end = time.time()\n",
    "radix_sort_elapsed_time = round((time_end - time_start) * 1000, 2)\n",
    "print(f\"Radix sort elapsed time: {radix_sort_elapsed_time} milliseconds\")"
   ]
  },
  {
   "cell_type": "code",
   "execution_count": null,
   "metadata": {
    "colab": {
     "base_uri": "https://localhost:8080/",
     "height": 430
    },
    "id": "NrqzU1hh_5_x",
    "outputId": "796d3114-0b60-4a2c-c92e-5efd836f83b3"
   },
   "outputs": [],
   "source": [
    "plt.bar(range(len(array_radix_sorted)), array_radix_sorted)\n",
    "plt.show()"
   ]
  },
  {
   "cell_type": "markdown",
   "metadata": {
    "id": "xyicfGAoAON-"
   },
   "source": [
    "# Counting sort\n",
    "A non-comparative algorithm that counts the occurrences of each element and uses this information to place them in the correct position.\n",
    "\n",
    "## Time complexity\n",
    "*   O(n + k) (where k is the range of the input)\n",
    "\n",
    "## Space complexity\n",
    "*   O(k)\n",
    "\n"
   ]
  },
  {
   "cell_type": "code",
   "execution_count": null,
   "metadata": {
    "id": "Nsbnwv9-AcB6"
   },
   "outputs": [],
   "source": [
    "def counting_sort(array):\n",
    "    data = array.copy()\n",
    "    max_val = max(data)\n",
    "    min_val = min(data)\n",
    "    range_val = max_val - min_val + 1\n",
    "\n",
    "    # Inicializa el conteo y el arreglo de salida\n",
    "    count = [0] * range_val\n",
    "    output = [0] * len(data)\n",
    "\n",
    "    # Cuenta las ocurrencias de cada elemento\n",
    "    for num in data:\n",
    "        count[num - min_val] += 1\n",
    "\n",
    "    # Acumula las posiciones finales de cada valor\n",
    "    for i in range(1, len(count)):\n",
    "        count[i] += count[i - 1]\n",
    "\n",
    "    # Construye el arreglo de salida en orden\n",
    "    for i in range(len(data) - 1, -1, -1):\n",
    "        output[count[data[i] - min_val] - 1] = data[i]\n",
    "        count[data[i] - min_val] -= 1\n",
    "\n",
    "    # Copia el arreglo de salida al arreglo original\n",
    "    for i in range(len(data)):\n",
    "        data[i] = output[i]\n",
    "\n",
    "    return data"
   ]
  },
  {
   "cell_type": "code",
   "execution_count": null,
   "metadata": {
    "colab": {
     "base_uri": "https://localhost:8080/"
    },
    "id": "FcBxT70aA-7V",
    "outputId": "5059741b-55a9-4294-97d1-db0569465762"
   },
   "outputs": [],
   "source": [
    "time_start = time.time()\n",
    "array_counting_sorted = counting_sort(array)\n",
    "time_end = time.time()\n",
    "counting_sort_elapsed_time = round((time_end - time_start) * 1000, 2)\n",
    "print(f\"Counting sort elapsed time: {counting_sort_elapsed_time} milliseconds\")"
   ]
  },
  {
   "cell_type": "code",
   "execution_count": null,
   "metadata": {
    "colab": {
     "base_uri": "https://localhost:8080/",
     "height": 430
    },
    "id": "pAu-qhZXBH3k",
    "outputId": "3cd04010-0e21-49d2-ebf4-5625a7a3c40f"
   },
   "outputs": [],
   "source": [
    "plt.bar(range(len(array_counting_sorted)), array_counting_sorted)\n",
    "plt.show()"
   ]
  },
  {
   "cell_type": "markdown",
   "metadata": {
    "id": "ske9MEC6BZHb"
   },
   "source": [
    "Results"
   ]
  },
  {
   "cell_type": "code",
   "execution_count": null,
   "metadata": {
    "colab": {
     "base_uri": "https://localhost:8080/",
     "height": 516
    },
    "id": "WfiNUYqoBfFs",
    "outputId": "111e091f-850d-44b3-909d-383d94593ece"
   },
   "outputs": [],
   "source": [
    "algorithm_labels = ['Bubble Sort', 'Selection Sort', 'Insertion Sort', 'Merge Sort', 'Quick Sort', 'Heap Sort', 'Radix Sort', 'Counting Sort']\n",
    "bar_heights = [bubble_sort_elapsed_time,\n",
    "              selection_sort_elapsed_time,\n",
    "              insertion_sort_elapsed_time,\n",
    "              merge_sort_elapsed_time,\n",
    "              quick_sort_elapsed_time,\n",
    "              heap_sort_elapsed_time,\n",
    "              radix_sort_elapsed_time,\n",
    "              counting_sort_elapsed_time]\n",
    "\n",
    "for i, height in enumerate(bar_heights):\n",
    "    plt.text(i, height + 10,  # Position (x, y) of the text\n",
    "             str(height),     # The text to display (the value)\n",
    "             ha='center',     # Horizontal alignment (center)\n",
    "             va='bottom')\n",
    "plt.bar(range(8),\n",
    "  bar_heights,\n",
    "  tick_label=algorithm_labels,\n",
    "        )\n",
    "plt.ylabel('Time (milliseconds)')\n",
    "plt.title('Comparison of Sorting Algorithms')\n",
    "plt.xticks(rotation=45, ha='right')\n",
    "plt.show()"
   ]
  }
 ],
 "metadata": {
  "colab": {
   "collapsed_sections": [
    "0SHSOW1Pr3wn",
    "Eg3y9x-hFtsi"
   ],
   "provenance": []
  },
  "kernelspec": {
   "display_name": "Python 3 (ipykernel)",
   "language": "python",
   "name": "python3"
  },
  "language_info": {
   "codemirror_mode": {
    "name": "ipython",
    "version": 3
   },
   "file_extension": ".py",
   "mimetype": "text/x-python",
   "name": "python",
   "nbconvert_exporter": "python",
   "pygments_lexer": "ipython3",
   "version": "3.12.7"
  }
 },
 "nbformat": 4,
 "nbformat_minor": 0
}
