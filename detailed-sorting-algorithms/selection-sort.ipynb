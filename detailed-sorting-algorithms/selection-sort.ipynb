{
 "cells": [
  {
   "cell_type": "markdown",
   "metadata": {
    "id": "H0kW8Z3-zkmU"
   },
   "source": [
    "[![Open in Colab](https://colab.research.google.com/assets/colab-badge.svg)](https://colab.research.google.com/github/NicolasJorquera/sorting-algorithms/blob/main/detailed-sorting-algorithms/selection-sort.ipynb)"
   ]
  }
 ]
}
